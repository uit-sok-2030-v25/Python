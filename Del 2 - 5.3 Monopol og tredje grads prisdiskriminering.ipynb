{
 "cells": [
  {
   "attachments": {},
   "cell_type": "markdown",
   "id": "ee3aff6e-64c0-41bf-b87d-b478e7857ae9",
   "metadata": {},
   "source": [
    "# Sok-2030 Næringsøkonomi og konkuransestrategi\n",
    "## Del 2 Monopol og prisdiskriminering\n",
    "### Optimal tilpasning ved tredje grads prisdiskriminering\n",
    "\n",
    "Betalingsvilligheten for boken \"Harry Potter and the Deathly Hallows\" vil være ulik i USA og Europa\n",
    "\n",
    "Etterspørsel USA:       PU = 36 – 4QU\n",
    "\n",
    "Etterspørsel Europa:  PE = 24 – 4QE\n",
    "\n",
    "Marginalkostnad vil være lik for begge markeden og lik 4 per produsert bok.\n",
    "\n"
   ]
  },
  {
   "cell_type": "code",
   "execution_count": 17,
   "id": "c956e52f-7f0c-4a60-b902-0f0f9afa6429",
   "metadata": {},
   "outputs": [],
   "source": [
    "import sympy as sp\n",
    "import numpy as np\n",
    "from matplotlib import pyplot as plt"
   ]
  },
  {
   "cell_type": "markdown",
   "id": "05c2b9c4-a83e-43ad-9881-89e526cc5b9d",
   "metadata": {},
   "source": [
    "Vi vil først se hvilken pris produsenten vil sette hvis de skal ha lik pris i begge markedene. For en pris lavere enn 24 vil aggregert etterspørsel være:  P = 30 - 2Q \n",
    "\n"
   ]
  },
  {
   "cell_type": "code",
   "execution_count": 18,
   "id": "502d10e4-0d12-424a-aa07-5fa960160e0e",
   "metadata": {},
   "outputs": [],
   "source": [
    "def demand(Q):\n",
    "    return 30-2*Q"
   ]
  },
  {
   "cell_type": "code",
   "execution_count": 19,
   "id": "60c3b0ee-df4a-4e4d-84f8-722f0881bc38",
   "metadata": {},
   "outputs": [],
   "source": [
    "def marginalrevenue(Q):\n",
    "    return 30-4*Q"
   ]
  },
  {
   "cell_type": "code",
   "execution_count": 20,
   "id": "3cd8208b-95c4-4fab-9553-02acf08d3852",
   "metadata": {},
   "outputs": [],
   "source": [
    "def marginalcost(Q):\n",
    "    return 4\n"
   ]
  },
  {
   "cell_type": "code",
   "execution_count": 21,
   "id": "84a5dc61-8073-497c-b142-7b4fc11e05e8",
   "metadata": {},
   "outputs": [
    {
     "data": {
      "text/latex": [
       "$\\displaystyle 30 - 4 Q = 4$"
      ],
      "text/plain": [
       "Eq(30 - 4*Q, 4)"
      ]
     },
     "execution_count": 21,
     "metadata": {},
     "output_type": "execute_result"
    }
   ],
   "source": [
    "# setter MR = MC\n",
    "Q=sp.symbols('Q', real=True, positive=True)\n",
    "equ=sp.Eq(marginalrevenue(Q),marginalcost(Q))\n",
    "equ"
   ]
  },
  {
   "cell_type": "markdown",
   "id": "701b055b-0f71-4608-bee4-581bcb5d9f97",
   "metadata": {},
   "source": [
    "## Optimal tilpasning ved uniform prising:"
   ]
  },
  {
   "cell_type": "code",
   "execution_count": 22,
   "id": "57c49a10-26c1-4899-9b1d-811d6ccde38a",
   "metadata": {},
   "outputs": [
    {
     "data": {
      "text/latex": [
       "$\\displaystyle 6.5$"
      ],
      "text/plain": [
       "6.50"
      ]
     },
     "execution_count": 22,
     "metadata": {},
     "output_type": "execute_result"
    }
   ],
   "source": [
    "# Finner optimalt kvatum for både USA og Europa\n",
    "Q_equ=sp.solve(equ,Q)[0]\n",
    "Q_equ\n",
    "round(Q_equ,2)"
   ]
  },
  {
   "cell_type": "code",
   "execution_count": 23,
   "id": "5e0a41c7-2fa6-404e-b015-4849dec74338",
   "metadata": {},
   "outputs": [
    {
     "data": {
      "text/latex": [
       "$\\displaystyle 17$"
      ],
      "text/plain": [
       "17"
      ]
     },
     "execution_count": 23,
     "metadata": {},
     "output_type": "execute_result"
    }
   ],
   "source": [
    "# Setter så optimalt kvantum inn i etterpørselsfunskjonen og får da optimal pris i begge markedene\n",
    "p_eq=demand(Q_equ)\n",
    "p_eq"
   ]
  },
  {
   "cell_type": "code",
   "execution_count": 24,
   "id": "2764f25f-7a22-429b-b58d-e4738abbaf25",
   "metadata": {},
   "outputs": [
    {
     "name": "stdout",
     "output_type": "stream",
     "text": [
      "4.75\n"
     ]
    }
   ],
   "source": [
    "# For å finne ut hvor mange bøker som vil bli solgt i USA setter vi optimal pris inn i den direkte etterspørselen for USA: Q = 9 - P/4\n",
    "def Q(P):\n",
    "    return 9-P/4\n",
    "print(Q(17))"
   ]
  },
  {
   "cell_type": "code",
   "execution_count": 25,
   "id": "49e46a1b-4e12-4738-8cde-38b78432936d",
   "metadata": {},
   "outputs": [
    {
     "name": "stdout",
     "output_type": "stream",
     "text": [
      "1.75\n"
     ]
    }
   ],
   "source": [
    "# Samme gjør vi for å finne antall solgte bøker i Europa, der direkte etterspørsel er Q = 6- P/4\n",
    "def Q(P):\n",
    "    return 6-P/4\n",
    "print(Q(17))"
   ]
  },
  {
   "cell_type": "code",
   "execution_count": 26,
   "id": "ec7d82e9-ff66-4da2-924f-b01f5ab00358",
   "metadata": {},
   "outputs": [
    {
     "name": "stdout",
     "output_type": "stream",
     "text": [
      "-2.0\n"
     ]
    }
   ],
   "source": [
    "# For å se på hva vi tjener på den siste solgt boka i USA, setter vi antall solgte bøker i USA inn i Marginalinntekt USA: P = 36 -8Qu\n",
    "def MR(Q):\n",
    "    return 36-8*Q\n",
    "print(MR(4.75))"
   ]
  },
  {
   "cell_type": "code",
   "execution_count": 27,
   "id": "e7bb25a7-7ba8-4147-9f06-d6fb3c20b4fa",
   "metadata": {},
   "outputs": [
    {
     "name": "stdout",
     "output_type": "stream",
     "text": [
      "10.0\n"
     ]
    }
   ],
   "source": [
    "# For å se på hva vi tjener på den siste solgt boka i Europa, setter vi antall solgte bøker i Europa inn i Marginalinntekt Europa P = 24 -8Qu\n",
    "def MR(Q):\n",
    "    return 24-8*Q\n",
    "print(MR(1.75))"
   ]
  },
  {
   "cell_type": "markdown",
   "id": "1230338b-edd0-4b43-bb59-88e7e4c51745",
   "metadata": {},
   "source": [
    "Vi ser nå at det er mer lønnsomt å selge flere bøker i Europa (med en MR = 10) enn det er å selge flere bøker i USA (med en MR = -2)"
   ]
  },
  {
   "cell_type": "code",
   "execution_count": 28,
   "id": "588d64bc-f063-451b-a036-3e84b1dc97e1",
   "metadata": {},
   "outputs": [
    {
     "name": "stdout",
     "output_type": "stream",
     "text": [
      "169/2\n"
     ]
    },
    {
     "data": {
      "text/latex": [
       "$\\displaystyle 84.5$"
      ],
      "text/plain": [
       "84.50"
      ]
     },
     "execution_count": 28,
     "metadata": {},
     "output_type": "execute_result"
    }
   ],
   "source": [
    "# Total profitt i begge markedene når vi har uniform pris:\n",
    "def profitt(Q):\n",
    "    return (p_eq-marginalcost(Q))*Q_equ\n",
    "print (profitt(Q_equ))\n",
    "round(profitt(Q_equ),2)"
   ]
  },
  {
   "cell_type": "markdown",
   "id": "67cf89d5-8c54-4fab-90a6-986e71f13a53",
   "metadata": {},
   "source": [
    "### Optimal tilpasning ved tredje grads prisdiskriminering:"
   ]
  },
  {
   "cell_type": "markdown",
   "id": "a92f0f98-e491-4bbb-b69e-6f8ba37bcce9",
   "metadata": {},
   "source": [
    "Tilpasning USA"
   ]
  },
  {
   "cell_type": "code",
   "execution_count": 29,
   "id": "cb25596d-0a16-49ca-801f-23d20e558836",
   "metadata": {},
   "outputs": [],
   "source": [
    "#  USA - demand P = 36 -4Qu\n",
    "def demand(Qu):\n",
    "    return 36-4*Qu"
   ]
  },
  {
   "cell_type": "code",
   "execution_count": 30,
   "id": "669b2209-6723-4e26-b894-17f6442fbbc3",
   "metadata": {},
   "outputs": [],
   "source": [
    "# Marginalinntekt USA - P = 36 -8Qu\n",
    "def marginalrevenue(Qu):\n",
    "    return 36-8*Qu"
   ]
  },
  {
   "cell_type": "code",
   "execution_count": 31,
   "id": "0984bc1b-4d7c-4e19-9df0-4e2a20ee01e0",
   "metadata": {},
   "outputs": [],
   "source": [
    "def marginalcost(Qu):\n",
    "    return 4"
   ]
  },
  {
   "cell_type": "code",
   "execution_count": 33,
   "id": "62e0cc2e-8bfe-4993-84c6-793ae600a46e",
   "metadata": {},
   "outputs": [
    {
     "data": {
      "text/latex": [
       "$\\displaystyle 36 - 8 Qu = 4$"
      ],
      "text/plain": [
       "Eq(36 - 8*Qu, 4)"
      ]
     },
     "execution_count": 33,
     "metadata": {},
     "output_type": "execute_result"
    }
   ],
   "source": [
    "# setter MR = MC\n",
    "Qu=sp.symbols('Qu', real=True, positive=True)\n",
    "equ=sp.Eq(marginalrevenue(Qu),marginalcost(Qu))\n",
    "equ"
   ]
  },
  {
   "cell_type": "code",
   "execution_count": 35,
   "id": "cace116c-f155-4572-af09-afb527b9eb5a",
   "metadata": {},
   "outputs": [
    {
     "data": {
      "text/latex": [
       "$\\displaystyle 4$"
      ],
      "text/plain": [
       "4"
      ]
     },
     "execution_count": 35,
     "metadata": {},
     "output_type": "execute_result"
    }
   ],
   "source": [
    "# optimalt salg av bøker i USA\n",
    "Qu_equ=sp.solve(equ,Qu)[0]\n",
    "Qu_equ"
   ]
  },
  {
   "cell_type": "code",
   "execution_count": 36,
   "id": "ff4b04e1-93f3-4f05-b13c-e225e7ecefaf",
   "metadata": {},
   "outputs": [
    {
     "data": {
      "text/latex": [
       "$\\displaystyle 20$"
      ],
      "text/plain": [
       "20"
      ]
     },
     "execution_count": 36,
     "metadata": {},
     "output_type": "execute_result"
    }
   ],
   "source": [
    "# optimal pris på bøker i USA\n",
    "pu_eq=demand(Qu_equ)\n",
    "pu_eq"
   ]
  },
  {
   "cell_type": "code",
   "execution_count": 37,
   "id": "fb01dd2e-6fa4-4874-b979-0d8ba608cce1",
   "metadata": {},
   "outputs": [
    {
     "name": "stdout",
     "output_type": "stream",
     "text": [
      "64\n"
     ]
    }
   ],
   "source": [
    "# Profitt USA\n",
    "def profitt(Qu):\n",
    "    return (20-4)*Qu\n",
    "print (profitt(4))"
   ]
  },
  {
   "cell_type": "markdown",
   "id": "6f73d015-5599-488f-af08-1944bb39b31f",
   "metadata": {},
   "source": [
    "Tilpasning Eurpoa"
   ]
  },
  {
   "cell_type": "code",
   "execution_count": 38,
   "id": "143039b2-8900-42c2-98cc-1edd39a24a97",
   "metadata": {},
   "outputs": [],
   "source": [
    "#  Europa - demand P = 36 -4Qe\n",
    "def demand(Qe):\n",
    "    return 24-4*Qe"
   ]
  },
  {
   "cell_type": "code",
   "execution_count": 39,
   "id": "f2ae89d6-f5b7-4489-b62d-cfb30d1544bf",
   "metadata": {},
   "outputs": [],
   "source": [
    "# Marginalinntekt Europa - P = 24 -8Qe\n",
    "def marginalrevenue(Qe):\n",
    "    return 24-8*Qe"
   ]
  },
  {
   "cell_type": "code",
   "execution_count": 40,
   "id": "46c1cd2c-c896-4142-9ade-4b15963cf7d3",
   "metadata": {},
   "outputs": [],
   "source": [
    "def marginalcost(Qe):\n",
    "    return 4"
   ]
  },
  {
   "cell_type": "code",
   "execution_count": 42,
   "id": "20e60cd1-71d1-42fe-9472-6bc6317a7254",
   "metadata": {},
   "outputs": [
    {
     "data": {
      "text/latex": [
       "$\\displaystyle 24 - 8 Qe = 4$"
      ],
      "text/plain": [
       "Eq(24 - 8*Qe, 4)"
      ]
     },
     "execution_count": 42,
     "metadata": {},
     "output_type": "execute_result"
    }
   ],
   "source": [
    "# setter MR = MC\n",
    "Qe=sp.symbols('Qe', real=True, positive=True)\n",
    "equ=sp.Eq(marginalrevenue(Qe),marginalcost(Qe))\n",
    "equ"
   ]
  },
  {
   "cell_type": "code",
   "execution_count": 44,
   "id": "89d4c74e-63be-4dce-ae55-5398ced7cb16",
   "metadata": {},
   "outputs": [
    {
     "data": {
      "text/latex": [
       "$\\displaystyle 2.5$"
      ],
      "text/plain": [
       "2.50"
      ]
     },
     "execution_count": 44,
     "metadata": {},
     "output_type": "execute_result"
    }
   ],
   "source": [
    "# optimal salg av bøker i Europa\n",
    "Qe_equ=sp.solve(equ,Qe)[0]\n",
    "Qe_equ\n",
    "round(Qe_equ,2)"
   ]
  },
  {
   "cell_type": "code",
   "execution_count": 45,
   "id": "687b59bb-d0a6-4be0-ae7b-304d581c472a",
   "metadata": {},
   "outputs": [
    {
     "data": {
      "text/latex": [
       "$\\displaystyle 14$"
      ],
      "text/plain": [
       "14"
      ]
     },
     "execution_count": 45,
     "metadata": {},
     "output_type": "execute_result"
    }
   ],
   "source": [
    "# optimal pris på bøker i Europa\n",
    "pe_eq=demand(Qe_equ)\n",
    "pe_eq"
   ]
  },
  {
   "cell_type": "code",
   "execution_count": 46,
   "id": "a68f0d2c-23e6-4867-b969-4c46b7f019a7",
   "metadata": {},
   "outputs": [
    {
     "name": "stdout",
     "output_type": "stream",
     "text": [
      "25.0\n"
     ]
    }
   ],
   "source": [
    "# Profitt Europa\n",
    "def profitt(Qe):\n",
    "    return (14-4)*Qe\n",
    "print (profitt(2.5))"
   ]
  }
 ],
 "metadata": {
  "kernelspec": {
   "display_name": "Python 3 (ipykernel)",
   "language": "python",
   "name": "python3"
  },
  "language_info": {
   "codemirror_mode": {
    "name": "ipython",
    "version": 3
   },
   "file_extension": ".py",
   "mimetype": "text/x-python",
   "name": "python",
   "nbconvert_exporter": "python",
   "pygments_lexer": "ipython3",
   "version": "3.9.18"
  }
 },
 "nbformat": 4,
 "nbformat_minor": 5
}
