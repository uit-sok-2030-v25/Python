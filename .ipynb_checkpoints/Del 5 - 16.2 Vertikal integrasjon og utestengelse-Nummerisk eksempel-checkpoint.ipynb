{
 "cells": [
  {
   "cell_type": "markdown",
   "id": "503ebf83-bc7d-446b-b3e3-c7a4c9f54b60",
   "metadata": {},
   "source": [
    "# Sok-2030 Næringsøkonomi og konkuransestrategi\n",
    "## Del 5 Relasjoner mellom bedrifter\n",
    "### Vertikale fusjoner \n",
    "\n",
    "Vi antar et marked bestående av to oppstrømsbedrifter, M1 og M2, og to nedstrømsbedrifter, R1 og R2. Invers ettersprøsel er gitt ved: P(Q) =100 - (q1+q2). Oppstrømsbedriftene produserer innsatsfaktor som selges til nedstrømsbedriftene til pris lik w. Oppstrømsbedriftene har marginalkostnader lik 23, og nedstrømsbedriftene har marginalkostand lik 23, pluss innkjøpskostander på w. \n",
    "\n",
    "### Vi antar nå at M1 og R1 fusjonerer, og at den fusjonerte  bedriften ikke ønsker å selge til R2\n",
    "\n",
    "### To-trinns spill: \n",
    "    Trinn 1: Oppstrømsbedriften R2 velger optimal pris til nedstrømsbedriften R2; w\n",
    "    Trinn 2: Nedstrømsbedriftene velger optimalt kvantum og pris i sluttbrukermarkedet; P\n",
    "    \n",
    "Vi bruker baklengs indukjon og starter med Trinn 2."
   ]
  },
  {
   "cell_type": "code",
   "execution_count": 1,
   "id": "ec4cdcb0-ec73-463a-bd7f-300066ab458a",
   "metadata": {},
   "outputs": [],
   "source": [
    "import sympy as sp\n",
    "from sympy import *\n",
    "import numpy as np\n",
    "from matplotlib import pyplot as plt"
   ]
  },
  {
   "cell_type": "code",
   "execution_count": 2,
   "id": "41b20459-9c80-4870-8c44-2bc972ec2103",
   "metadata": {},
   "outputs": [],
   "source": [
    "qMR1, qR2,  qM2, w, QR, QM, P =symbols('q^MR_1 q^R_2 q^M_2 w Q^R Q^M P ', \n",
    "                                          positive=True)"
   ]
  },
  {
   "attachments": {},
   "cell_type": "markdown",
   "id": "68f1a73a-727d-490b-abf1-9f1dc1523f4a",
   "metadata": {},
   "source": [
    "## Trinn 2: Cournot tilpasning for nedstrømsbedriftene \n",
    "\n",
    "Marginalkostnader til den funksjonerte bedriften: 23 + 23 = 46 \n",
    "\n",
    "Marginalkostnad til R2 er lik w + 23, hvor w > 23\n",
    "\r",
    "c"
   ]
  },
  {
   "cell_type": "code",
   "execution_count": 3,
   "id": "68cb116d-3b70-4cfc-8c3e-381ebeb01188",
   "metadata": {},
   "outputs": [],
   "source": [
    "def demand_1R(qMR1):\n",
    "           return (100-qMR1-qR2)"
   ]
  },
  {
   "cell_type": "code",
   "execution_count": 4,
   "id": "44f6f431-42b0-48d7-856f-bb9ed615159c",
   "metadata": {},
   "outputs": [],
   "source": [
    "def demand_2R(qR2):\n",
    "           return (100-qMR1-qR2)"
   ]
  },
  {
   "cell_type": "code",
   "execution_count": 5,
   "id": "f79092f1-71e9-4a3d-bf8a-005a6222fbef",
   "metadata": {},
   "outputs": [],
   "source": [
    "def marginalrevenue_1R(qMR1):\n",
    "    return (100-2*qMR1-qR2)"
   ]
  },
  {
   "cell_type": "code",
   "execution_count": 6,
   "id": "9065352a-c0f5-41ca-ae02-b8ddd2ef31e0",
   "metadata": {},
   "outputs": [],
   "source": [
    "def marginalrevenue_2R(qR2):\n",
    "    return (100-qMR1-2*qR2)"
   ]
  },
  {
   "cell_type": "markdown",
   "id": "8cacbb73-abbf-4ad9-b083-15396c1b0d92",
   "metadata": {},
   "source": [
    "### Optimal tilpasning der MR = MC"
   ]
  },
  {
   "cell_type": "code",
   "execution_count": 7,
   "id": "bcbdb1c0-c8e1-434c-b8b1-0338d1abb75f",
   "metadata": {},
   "outputs": [
    {
     "data": {
      "text/latex": [
       "$\\displaystyle - 2 q^{MR}_{1} - q^{R}_{2} + 100 = 46$"
      ],
      "text/plain": [
       "Eq(-2*q^MR_1 - q^R_2 + 100, 46)"
      ]
     },
     "execution_count": 7,
     "metadata": {},
     "output_type": "execute_result"
    }
   ],
   "source": [
    "# Optimal tilpasning for R1 der MR = c + k\n",
    "\n",
    "equ_MR1 = sp.Eq(marginalrevenue_1R(qMR1),23+23)\n",
    "equ_MR1"
   ]
  },
  {
   "cell_type": "code",
   "execution_count": 8,
   "id": "21f6e52f-a29c-4ed8-be16-62af4863f579",
   "metadata": {},
   "outputs": [
    {
     "data": {
      "text/latex": [
       "$\\displaystyle - q^{MR}_{1} - 2 q^{R}_{2} + 100 = w + 23$"
      ],
      "text/plain": [
       "Eq(-q^MR_1 - 2*q^R_2 + 100, w + 23)"
      ]
     },
     "execution_count": 8,
     "metadata": {},
     "output_type": "execute_result"
    }
   ],
   "source": [
    "# Optimal tilpasning for R2 der MR = w + k\n",
    "\n",
    "equ_R2 = sp.Eq(marginalrevenue_2R(qR2),w+23)\n",
    "equ_R2"
   ]
  },
  {
   "cell_type": "code",
   "execution_count": 9,
   "id": "7e2bd4af-d3fc-427d-9593-a252b3ee16b2",
   "metadata": {},
   "outputs": [
    {
     "data": {
      "text/latex": [
       "$\\displaystyle 27 - \\frac{q^{R}_{2}}{2}$"
      ],
      "text/plain": [
       "27 - q^R_2/2"
      ]
     },
     "execution_count": 9,
     "metadata": {},
     "output_type": "execute_result"
    }
   ],
   "source": [
    "#reaksjonsfunksjon til bedrift 1\n",
    "\n",
    "qMR1_equ = sp.solve(equ_MR1, qMR1)[0]\n",
    "qMR1_equ"
   ]
  },
  {
   "cell_type": "code",
   "execution_count": 10,
   "id": "9069f646-721c-4cd2-8f34-691b346e8934",
   "metadata": {},
   "outputs": [
    {
     "data": {
      "text/latex": [
       "$\\displaystyle - \\frac{q^{MR}_{1}}{2} - \\frac{w}{2} + \\frac{77}{2}$"
      ],
      "text/plain": [
       "-q^MR_1/2 - w/2 + 77/2"
      ]
     },
     "execution_count": 10,
     "metadata": {},
     "output_type": "execute_result"
    }
   ],
   "source": [
    "#reaksjonsfunksjon til bedrift 2\n",
    "\n",
    "qR2_equ=sp.solve(equ_R2,qR2)[0]\n",
    "qR2_equ"
   ]
  },
  {
   "cell_type": "markdown",
   "id": "9b1f7fad-3fe4-420f-a05c-4a8dd4220196",
   "metadata": {},
   "source": [
    "### Optimalt kvantum for nedstrømsbedritene"
   ]
  },
  {
   "cell_type": "code",
   "execution_count": 11,
   "id": "c2348145-c72b-4624-ab63-048e8d5a21af",
   "metadata": {},
   "outputs": [
    {
     "data": {
      "text/latex": [
       "$\\displaystyle \\frac{w}{3} + \\frac{31}{3}$"
      ],
      "text/plain": [
       "w/3 + 31/3"
      ]
     },
     "execution_count": 11,
     "metadata": {},
     "output_type": "execute_result"
    }
   ],
   "source": [
    "# setter uttrykk for RF(q2) inn i RF(q1)\n",
    "\n",
    "qMR1_unresv_eq = qMR1_equ.subs(qR2, qR2_equ)\n",
    "qMR1_opt = sp.solve(sp.Eq(qMR1, qMR1_unresv_eq), qMR1)[0]\n",
    "qMR1_opt"
   ]
  },
  {
   "cell_type": "code",
   "execution_count": 12,
   "id": "9868900e-f011-49ca-aa84-a4ad2e030322",
   "metadata": {},
   "outputs": [
    {
     "data": {
      "text/latex": [
       "$\\displaystyle q^{MR}_{1} = \\frac{w}{3} + \\frac{31}{3}$"
      ],
      "text/plain": [
       "Eq(q^MR_1, w/3 + 31/3)"
      ]
     },
     "execution_count": 12,
     "metadata": {},
     "output_type": "execute_result"
    }
   ],
   "source": [
    "# Kvantum for MR1\n",
    "\n",
    "qMR1_unresv = sp.Eq(qMR1, qMR1_opt)\n",
    "qMR1_unresv"
   ]
  },
  {
   "cell_type": "code",
   "execution_count": 13,
   "id": "70a07980-4723-4f54-8a6c-aad55690c90c",
   "metadata": {},
   "outputs": [
    {
     "data": {
      "text/latex": [
       "$\\displaystyle \\frac{100}{3} - \\frac{2 w}{3}$"
      ],
      "text/plain": [
       "100/3 - 2*w/3"
      ]
     },
     "execution_count": 13,
     "metadata": {},
     "output_type": "execute_result"
    }
   ],
   "source": [
    "# setter uttrykk for RF(q1) inn i RF(q2)\n",
    "\n",
    "qR2_unresv_eq = qR2_equ.subs(qMR1, qMR1_equ)\n",
    "qR2_opt = sp.solve(sp.Eq(qR2, qR2_unresv_eq), qR2)[0]\n",
    "qR2_opt"
   ]
  },
  {
   "cell_type": "code",
   "execution_count": 14,
   "id": "bb3e1b61-a13f-45f3-94ed-f087d3468aa4",
   "metadata": {},
   "outputs": [
    {
     "data": {
      "text/latex": [
       "$\\displaystyle q^{R}_{2} = \\frac{100}{3} - \\frac{2 w}{3}$"
      ],
      "text/plain": [
       "Eq(q^R_2, 100/3 - 2*w/3)"
      ]
     },
     "execution_count": 14,
     "metadata": {},
     "output_type": "execute_result"
    }
   ],
   "source": [
    "# Kvantum for R2\n",
    "\n",
    "qR2_unresv = sp.Eq(qR2, qR2_opt)\n",
    "qR2_unresv"
   ]
  },
  {
   "cell_type": "markdown",
   "id": "a2e9e67c-5a80-4989-a97c-21443d116a9c",
   "metadata": {},
   "source": [
    "### Trinn 1: Oppstømsbedriften R2 velger optimal pris til M2"
   ]
  },
  {
   "cell_type": "code",
   "execution_count": 15,
   "id": "4fc7f174-a24e-4941-8a02-26d045a74689",
   "metadata": {},
   "outputs": [
    {
     "data": {
      "text/latex": [
       "$\\displaystyle 50 - \\frac{3 q^{R}_{2}}{2}$"
      ],
      "text/plain": [
       "50 - 3*q^R_2/2"
      ]
     },
     "execution_count": 15,
     "metadata": {},
     "output_type": "execute_result"
    }
   ],
   "source": [
    "# Invers etterspørsel til M2 vil være lik optimalt kvantum til R2\n",
    "w_equ = sp.solve(qR2_unresv, w)[0]\n",
    "w_equ"
   ]
  },
  {
   "cell_type": "code",
   "execution_count": 16,
   "id": "1431c464-6c92-4272-ac09-35e55dc9ae31",
   "metadata": {},
   "outputs": [
    {
     "data": {
      "text/latex": [
       "$\\displaystyle w = 50 - \\frac{3 q^{R}_{2}}{2}$"
      ],
      "text/plain": [
       "Eq(w, 50 - 3*q^R_2/2)"
      ]
     },
     "execution_count": 16,
     "metadata": {},
     "output_type": "execute_result"
    }
   ],
   "source": [
    "# Invers etterspørsel til M2\n",
    "w_unresv = sp.Eq(w, w_equ)\n",
    "w_unresv"
   ]
  },
  {
   "cell_type": "markdown",
   "id": "6d490091-2576-46da-b1b9-5691a60eb64a",
   "metadata": {},
   "source": [
    "### Monopoltilpasning for M2\n",
    "Siden M2 er eneste tilbyder til R2 vil vi bedriften opptre som monopolist."
   ]
  },
  {
   "cell_type": "code",
   "execution_count": 17,
   "id": "8a882cd0-9aba-4d6b-aa45-48444e34b109",
   "metadata": {},
   "outputs": [],
   "source": [
    "def demand_2M(qM2):\n",
    "           return (50-(3*(qM2)/2))"
   ]
  },
  {
   "cell_type": "code",
   "execution_count": 18,
   "id": "88eeff3d-025c-4720-95bf-0c71a7825df9",
   "metadata": {},
   "outputs": [],
   "source": [
    "def marginalrevenue_2M(qM2):\n",
    "    return (50-3*qM2)"
   ]
  },
  {
   "cell_type": "code",
   "execution_count": 19,
   "id": "f9a52f46-7634-4efa-a027-fb0119e58348",
   "metadata": {},
   "outputs": [
    {
     "data": {
      "text/latex": [
       "$\\displaystyle 50 - 3 q^{M}_{2} = 23$"
      ],
      "text/plain": [
       "Eq(50 - 3*q^M_2, 23)"
      ]
     },
     "execution_count": 19,
     "metadata": {},
     "output_type": "execute_result"
    }
   ],
   "source": [
    "# Optimal tilpasning der MR = c\n",
    "\n",
    "qM2_equ=sp.Eq(marginalrevenue_2M(qM2),23)\n",
    "qM2_equ"
   ]
  },
  {
   "cell_type": "code",
   "execution_count": 20,
   "id": "43afe208-f22d-4c59-b1d3-15d4792c1519",
   "metadata": {},
   "outputs": [
    {
     "data": {
      "text/latex": [
       "$\\displaystyle 9$"
      ],
      "text/plain": [
       "9"
      ]
     },
     "execution_count": 20,
     "metadata": {},
     "output_type": "execute_result"
    }
   ],
   "source": [
    "# optimalt kvantum på trinn 2 for M2, som da også er salget for R2\n",
    "\n",
    "qM2_equ=sp.solve(qM2_equ,qM2)[0]\n",
    "qM2_equ"
   ]
  },
  {
   "cell_type": "code",
   "execution_count": 21,
   "id": "28ca9028-e52f-4615-a122-d3cad13452d1",
   "metadata": {},
   "outputs": [
    {
     "data": {
      "text/latex": [
       "$\\displaystyle w = \\frac{73}{2}$"
      ],
      "text/plain": [
       "Eq(w, 73/2)"
      ]
     },
     "execution_count": 21,
     "metadata": {},
     "output_type": "execute_result"
    }
   ],
   "source": [
    "# For å finne pris til nedstømsberiften R2 setter vi qM2 inn etterspørselsfunskjonen, som er w = (a-k+c)/2-3B/2*qR2 \n",
    "\n",
    "w_opt=w_unresv.subs({qR2:qM2_equ})\n",
    "sp.simplify(w_opt)"
   ]
  },
  {
   "cell_type": "code",
   "execution_count": 22,
   "id": "c289f160-49a1-4dda-b8f3-6ad0ddc1217e",
   "metadata": {},
   "outputs": [
    {
     "data": {
      "text/latex": [
       "$\\displaystyle \\frac{73}{2}$"
      ],
      "text/plain": [
       "73/2"
      ]
     },
     "execution_count": 22,
     "metadata": {},
     "output_type": "execute_result"
    }
   ],
   "source": [
    "# Pris på innsatsfaktor til R2\n",
    "w_equ = sp.solve(w_opt, w)[0]\n",
    "w_equ"
   ]
  },
  {
   "cell_type": "code",
   "execution_count": 23,
   "id": "aaa602e1-941b-4a50-8273-077adb7d4516",
   "metadata": {},
   "outputs": [
    {
     "data": {
      "text/latex": [
       "$\\displaystyle w = \\frac{73}{2}$"
      ],
      "text/plain": [
       "Eq(w, 73/2)"
      ]
     },
     "execution_count": 23,
     "metadata": {},
     "output_type": "execute_result"
    }
   ],
   "source": [
    "w_unresv = sp.Eq(w,w_equ)\n",
    "w_unresv"
   ]
  },
  {
   "cell_type": "markdown",
   "id": "a1ac6b0e-e02d-44d9-a9b6-077f8114d8d7",
   "metadata": {},
   "source": [
    "### Optimalt kvantum og pris i sluttbrukermarkedet"
   ]
  },
  {
   "cell_type": "code",
   "execution_count": 24,
   "id": "b8fcb763-3037-4e7d-b812-29a4b01e4bcd",
   "metadata": {},
   "outputs": [
    {
     "data": {
      "text/latex": [
       "$\\displaystyle \\frac{45}{2}$"
      ],
      "text/plain": [
       "45/2"
      ]
     },
     "execution_count": 24,
     "metadata": {},
     "output_type": "execute_result"
    }
   ],
   "source": [
    "# Vi setter w_equ inn i optimalt kvantum for den vertikalt integrete bedriften og for salg fra MR1 til sluttbruker: \n",
    "\n",
    "qMR1_opt1=qMR1_opt.subs({w:w_equ})\n",
    "sp.simplify(qMR1_opt1)"
   ]
  },
  {
   "cell_type": "code",
   "execution_count": 25,
   "id": "4588828b-1764-4866-af0d-2343a463c212",
   "metadata": {},
   "outputs": [
    {
     "data": {
      "text/latex": [
       "$\\displaystyle 9$"
      ],
      "text/plain": [
       "9"
      ]
     },
     "execution_count": 25,
     "metadata": {},
     "output_type": "execute_result"
    }
   ],
   "source": [
    "# Vi setter w_equ inn i optimalt kvantum for den R2 og for salg fra R2 til sluttbruker: \n",
    "\n",
    "qR2_opt1=qR2_opt.subs({w:w_equ})\n",
    "sp.simplify(qR2_opt1)"
   ]
  },
  {
   "cell_type": "code",
   "execution_count": 26,
   "id": "24c5a9b6-a653-4c95-ad11-47d4f6e665ec",
   "metadata": {},
   "outputs": [
    {
     "data": {
      "text/latex": [
       "$\\displaystyle \\frac{137}{2}$"
      ],
      "text/plain": [
       "137/2"
      ]
     },
     "execution_count": 26,
     "metadata": {},
     "output_type": "execute_result"
    }
   ],
   "source": [
    "# Optimal pris til sluttbruker\n",
    "\n",
    "demand_1R(qMR1).subs({qMR1:qMR1_opt1,qR2:qM2_equ})"
   ]
  },
  {
   "cell_type": "code",
   "execution_count": 27,
   "id": "188b1268-23f8-4711-a5a1-d76b4213dde7",
   "metadata": {},
   "outputs": [
    {
     "data": {
      "text/latex": [
       "$\\displaystyle P = \\frac{137}{2}$"
      ],
      "text/plain": [
       "Eq(P, 137/2)"
      ]
     },
     "execution_count": 27,
     "metadata": {},
     "output_type": "execute_result"
    }
   ],
   "source": [
    "P_equ = sp.Eq(P, demand_1R(qMR1).subs({qMR1:qMR1_opt1,qR2:qM2_equ}))\n",
    "P_equ"
   ]
  },
  {
   "cell_type": "code",
   "execution_count": 28,
   "id": "9f2efc25-c83f-4316-9fe1-8219ffa9472b",
   "metadata": {},
   "outputs": [
    {
     "data": {
      "text/latex": [
       "$\\displaystyle \\frac{2025}{4}$"
      ],
      "text/plain": [
       "2025/4"
      ]
     },
     "execution_count": 28,
     "metadata": {},
     "output_type": "execute_result"
    }
   ],
   "source": [
    "# Profitt til MR1 er lik (p-k-c)qRM1:\n",
    "def profitt(qMR1):\n",
    "    return (demand_1R(qMR1).subs({qMR1:qMR1_opt1,qR2:qM2_equ})-23-23)*qMR1_opt1\n",
    "\n",
    "sp.simplify(profitt(qMR1))\n"
   ]
  },
  {
   "cell_type": "code",
   "execution_count": 29,
   "id": "20ea4561-6c1b-4f7f-b189-bd5dd61aedb6",
   "metadata": {},
   "outputs": [
    {
     "data": {
      "text/latex": [
       "$\\displaystyle 81$"
      ],
      "text/plain": [
       "81"
      ]
     },
     "execution_count": 29,
     "metadata": {},
     "output_type": "execute_result"
    }
   ],
   "source": [
    "# Profitt til R2 er lik (p-k-w)qM2:\n",
    "def profitt(qR2):\n",
    "    return (demand_1R(qMR1).subs({qMR1:qMR1_opt1,qR2:qM2_equ})-23-w.subs({w:w_equ}))*qM2_equ\n",
    "\n",
    "sp.simplify(profitt(qR2))\n"
   ]
  },
  {
   "cell_type": "code",
   "execution_count": 30,
   "id": "44c915b5-651b-47cf-a5a0-2df8f3d442a3",
   "metadata": {},
   "outputs": [
    {
     "data": {
      "text/latex": [
       "$\\displaystyle \\frac{243}{2}$"
      ],
      "text/plain": [
       "243/2"
      ]
     },
     "execution_count": 30,
     "metadata": {},
     "output_type": "execute_result"
    }
   ],
   "source": [
    "# Profitt til M2 er lik (w-c)qM2:\n",
    "def profitt(qM2):\n",
    "    return (w_equ-23)*qM2_equ\n",
    "\n",
    "sp.simplify(profitt(qM2))"
   ]
  }
 ],
 "metadata": {
  "kernelspec": {
   "display_name": "Python 3 (ipykernel)",
   "language": "python",
   "name": "python3"
  },
  "language_info": {
   "codemirror_mode": {
    "name": "ipython",
    "version": 3
   },
   "file_extension": ".py",
   "mimetype": "text/x-python",
   "name": "python",
   "nbconvert_exporter": "python",
   "pygments_lexer": "ipython3",
   "version": "3.9.18"
  }
 },
 "nbformat": 4,
 "nbformat_minor": 5
}
