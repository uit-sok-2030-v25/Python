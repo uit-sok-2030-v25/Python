{
 "cells": [
  {
   "cell_type": "markdown",
   "id": "a4724205-43d8-4444-8a10-e59aba54c5de",
   "metadata": {},
   "source": [
    "# Sok-2030 Næringsøkonomi og konkuransestrategi\n",
    "## Del 2 Monopol og prisdiskriminering \n",
    "### To-delt tariff"
   ]
  },
  {
   "cell_type": "code",
   "execution_count": 3,
   "id": "135634ae-2961-4d53-9bd3-f04d5fe0272f",
   "metadata": {},
   "outputs": [],
   "source": [
    "import sympy as sp\n",
    "import numpy as np\n",
    "from matplotlib import pyplot as plt"
   ]
  },
  {
   "cell_type": "code",
   "execution_count": 4,
   "id": "d7569eb2-181f-4015-8b30-34039455f928",
   "metadata": {},
   "outputs": [],
   "source": [
    "# Etterspørsel for voksen:\n",
    "def demand_Qo(Qo):\n",
    "    return (12-Qo)"
   ]
  },
  {
   "cell_type": "code",
   "execution_count": 5,
   "id": "6871720e-8cf9-468a-84f9-2e1eb5a6ef6b",
   "metadata": {},
   "outputs": [],
   "source": [
    "def marginalrevenue_Qo(Qo):\n",
    "    return 12-2*Qo"
   ]
  },
  {
   "cell_type": "code",
   "execution_count": 14,
   "id": "0384e193-1ee6-4036-a1b4-18120b41c9c3",
   "metadata": {},
   "outputs": [],
   "source": [
    "# Etterspørsel for unge:\n",
    "def demand_Qy(Qy):\n",
    "    return (16-Qy)"
   ]
  },
  {
   "cell_type": "code",
   "execution_count": 15,
   "id": "0c8a0a98-7d68-42cb-996a-96ff71f9a4f2",
   "metadata": {},
   "outputs": [],
   "source": [
    "def marginalrevenue_Qy(Qy):\n",
    "    return 16-2*Qy"
   ]
  },
  {
   "cell_type": "code",
   "execution_count": 16,
   "id": "4b9fa83d-2454-4b84-b26a-832f1cad1756",
   "metadata": {},
   "outputs": [],
   "source": [
    "def marginalcost_Qo(Qo):\n",
    "    return 4"
   ]
  },
  {
   "cell_type": "code",
   "execution_count": 17,
   "id": "5b9e2e83-d138-444f-b11f-3a3df2e782d5",
   "metadata": {},
   "outputs": [],
   "source": [
    "def marginalcost_Qy(Qy):\n",
    "    return 4"
   ]
  },
  {
   "cell_type": "code",
   "execution_count": 10,
   "id": "b3fe1db0-d28d-41b7-83c2-265afa0a4b90",
   "metadata": {},
   "outputs": [
    {
     "data": {
      "text/latex": [
       "$\\displaystyle 12 - 2 Qo = 4$"
      ],
      "text/plain": [
       "Eq(12 - 2*Qo, 4)"
      ]
     },
     "execution_count": 10,
     "metadata": {},
     "output_type": "execute_result"
    }
   ],
   "source": [
    "# Optimal tilpasning voksne:\n",
    "Qo=sp.symbols('Qo', real=True, positive=True)\n",
    "equ=sp.Eq(marginalrevenue_Qo(Qo),marginalcost_Qo(Qo))\n",
    "equ"
   ]
  },
  {
   "cell_type": "code",
   "execution_count": 11,
   "id": "d7319c2a-b8cf-4056-98a4-e2087696afc6",
   "metadata": {},
   "outputs": [
    {
     "data": {
      "text/latex": [
       "$\\displaystyle 4$"
      ],
      "text/plain": [
       "4"
      ]
     },
     "execution_count": 11,
     "metadata": {},
     "output_type": "execute_result"
    }
   ],
   "source": [
    "# Optimalt kvantum voksen:\n",
    "Qo_equ=sp.solve(equ,Qo)[0]\n",
    "Qo_equ\n",
    "round(Qo_equ,2)"
   ]
  },
  {
   "cell_type": "code",
   "execution_count": 12,
   "id": "98a8cf00-1ae4-440f-a128-bd4c5cba9279",
   "metadata": {},
   "outputs": [
    {
     "data": {
      "text/latex": [
       "$\\displaystyle 8$"
      ],
      "text/plain": [
       "8"
      ]
     },
     "execution_count": 12,
     "metadata": {},
     "output_type": "execute_result"
    }
   ],
   "source": [
    "# Optimal pris voksne:\n",
    "po_eq=demand_Qo(Qo_equ)\n",
    "po_eq"
   ]
  },
  {
   "cell_type": "code",
   "execution_count": 13,
   "id": "079d7c9c-86db-4669-a5c4-6690416c7391",
   "metadata": {},
   "outputs": [
    {
     "data": {
      "text/latex": [
       "$\\displaystyle 8$"
      ],
      "text/plain": [
       "8"
      ]
     },
     "execution_count": 13,
     "metadata": {},
     "output_type": "execute_result"
    }
   ],
   "source": [
    "# konsumentoverskudd voksen\n",
    "consumer_surplus=sp.integrate(demand_Qo(Qo)-po_eq,(Qo,0,Qo_equ))\n",
    "consumer_surplus"
   ]
  },
  {
   "cell_type": "code",
   "execution_count": 18,
   "id": "dd07e196-ff51-4438-b46b-507b28d66356",
   "metadata": {},
   "outputs": [
    {
     "data": {
      "text/latex": [
       "$\\displaystyle 16 - 2 Qy = 4$"
      ],
      "text/plain": [
       "Eq(16 - 2*Qy, 4)"
      ]
     },
     "execution_count": 18,
     "metadata": {},
     "output_type": "execute_result"
    }
   ],
   "source": [
    "# Optimal tilpasning ung:\n",
    "Qy=sp.symbols('Qy', real=True, positive=True)\n",
    "equ=sp.Eq(marginalrevenue_Qy(Qy),marginalcost_Qy(Qy))\n",
    "equ"
   ]
  },
  {
   "cell_type": "code",
   "execution_count": 19,
   "id": "a6596c64-d498-4051-8dc7-4acb81a1a40b",
   "metadata": {},
   "outputs": [
    {
     "data": {
      "text/latex": [
       "$\\displaystyle 6$"
      ],
      "text/plain": [
       "6"
      ]
     },
     "execution_count": 19,
     "metadata": {},
     "output_type": "execute_result"
    }
   ],
   "source": [
    "# Optimalt kvantum ung:\n",
    "Qy_equ=sp.solve(equ,Qy)[0]\n",
    "Qy_equ\n",
    "round(Qy_equ,2)"
   ]
  },
  {
   "cell_type": "code",
   "execution_count": 20,
   "id": "3dfabae9-00bb-4cc2-a7c5-b6c5ad24ff26",
   "metadata": {},
   "outputs": [
    {
     "data": {
      "text/latex": [
       "$\\displaystyle 10$"
      ],
      "text/plain": [
       "10"
      ]
     },
     "execution_count": 20,
     "metadata": {},
     "output_type": "execute_result"
    }
   ],
   "source": [
    "# Optimal pris ung:\n",
    "py_eq=demand_Qy(Qy_equ)\n",
    "py_eq"
   ]
  },
  {
   "cell_type": "code",
   "execution_count": 21,
   "id": "1e95edf5-853c-43d2-bc58-8b9486f52fd2",
   "metadata": {},
   "outputs": [
    {
     "data": {
      "text/latex": [
       "$\\displaystyle 18$"
      ],
      "text/plain": [
       "18"
      ]
     },
     "execution_count": 21,
     "metadata": {},
     "output_type": "execute_result"
    }
   ],
   "source": [
    "# Konsumentoverskudd ung\n",
    "consumer_surplus=sp.integrate(demand_Qy(Qy)-py_eq,(Qy,0,Qy_equ))\n",
    "consumer_surplus"
   ]
  },
  {
   "cell_type": "markdown",
   "id": "e0c8b9b5-8e80-45d6-a943-3b2d6d9f5272",
   "metadata": {},
   "source": [
    "## 1. grads prisdiskriminering og to-delt tariff"
   ]
  },
  {
   "cell_type": "code",
   "execution_count": 22,
   "id": "89cf67cb-afbb-4220-a3ba-5d3762f29a8e",
   "metadata": {},
   "outputs": [
    {
     "data": {
      "text/latex": [
       "$\\displaystyle 12 - Qo = 4$"
      ],
      "text/plain": [
       "Eq(12 - Qo, 4)"
      ]
     },
     "execution_count": 22,
     "metadata": {},
     "output_type": "execute_result"
    }
   ],
   "source": [
    "# Optimal tilpasning voksne:\n",
    "Qo=sp.symbols('Qo', real=True, positive=True)\n",
    "equ=sp.Eq(demand_Qo(Qo),marginalcost_Qo(Qo))\n",
    "equ"
   ]
  },
  {
   "cell_type": "code",
   "execution_count": 23,
   "id": "e20b624c-b911-4e03-88db-f4a46075a799",
   "metadata": {},
   "outputs": [
    {
     "data": {
      "text/latex": [
       "$\\displaystyle 8$"
      ],
      "text/plain": [
       "8"
      ]
     },
     "execution_count": 23,
     "metadata": {},
     "output_type": "execute_result"
    }
   ],
   "source": [
    "# Optimalt kvantum voksen:\n",
    "Qo_equ=sp.solve(equ,Qo)[0]\n",
    "Qo_equ\n",
    "round(Qo_equ,2)"
   ]
  },
  {
   "cell_type": "code",
   "execution_count": 24,
   "id": "00f3b803-e0ab-4f67-85f1-a9b1031fa5d5",
   "metadata": {},
   "outputs": [
    {
     "data": {
      "text/latex": [
       "$\\displaystyle 4$"
      ],
      "text/plain": [
       "4"
      ]
     },
     "execution_count": 24,
     "metadata": {},
     "output_type": "execute_result"
    }
   ],
   "source": [
    "# Optimal pris voksne:\n",
    "po_eq=demand_Qo(Qo_equ)\n",
    "po_eq"
   ]
  },
  {
   "cell_type": "code",
   "execution_count": 25,
   "id": "b9d16dd2-5abe-4804-a142-ae249d24d845",
   "metadata": {},
   "outputs": [
    {
     "data": {
      "text/latex": [
       "$\\displaystyle 32$"
      ],
      "text/plain": [
       "32"
      ]
     },
     "execution_count": 25,
     "metadata": {},
     "output_type": "execute_result"
    }
   ],
   "source": [
    "# konsumentoverskudd voksen\n",
    "consumer_surplus=sp.integrate(demand_Qo(Qo)-po_eq,(Qo,0,Qo_equ))\n",
    "consumer_surplus"
   ]
  },
  {
   "cell_type": "code",
   "execution_count": 26,
   "id": "e010e6fd-1e72-4fdc-bd40-60b4441091e0",
   "metadata": {},
   "outputs": [
    {
     "data": {
      "text/latex": [
       "$\\displaystyle 16 - Qy = 4$"
      ],
      "text/plain": [
       "Eq(16 - Qy, 4)"
      ]
     },
     "execution_count": 26,
     "metadata": {},
     "output_type": "execute_result"
    }
   ],
   "source": [
    "# Optimal tilpasning ung:\n",
    "Qy=sp.symbols('Qy', real=True, positive=True)\n",
    "equ=sp.Eq(demand_Qy(Qy),marginalcost_Qy(Qy))\n",
    "equ"
   ]
  },
  {
   "cell_type": "code",
   "execution_count": 27,
   "id": "82211007-5e0a-42f4-b142-e98acfeb3b54",
   "metadata": {},
   "outputs": [
    {
     "data": {
      "text/latex": [
       "$\\displaystyle 12$"
      ],
      "text/plain": [
       "12"
      ]
     },
     "execution_count": 27,
     "metadata": {},
     "output_type": "execute_result"
    }
   ],
   "source": [
    "# Optimalt kvantum ung:\n",
    "Qy_equ=sp.solve(equ,Qy)[0]\n",
    "Qy_equ\n",
    "round(Qy_equ,2)"
   ]
  },
  {
   "cell_type": "code",
   "execution_count": 28,
   "id": "86f378e0-ecbc-4b9c-a218-04e829e4438d",
   "metadata": {},
   "outputs": [
    {
     "data": {
      "text/latex": [
       "$\\displaystyle 4$"
      ],
      "text/plain": [
       "4"
      ]
     },
     "execution_count": 28,
     "metadata": {},
     "output_type": "execute_result"
    }
   ],
   "source": [
    "# Optimal pris ung:\n",
    "py_eq=demand_Qy(Qy_equ)\n",
    "py_eq"
   ]
  },
  {
   "cell_type": "code",
   "execution_count": 29,
   "id": "b49dcbaf-6e90-4024-a6a1-182a473f7a06",
   "metadata": {},
   "outputs": [
    {
     "data": {
      "text/latex": [
       "$\\displaystyle 72$"
      ],
      "text/plain": [
       "72"
      ]
     },
     "execution_count": 29,
     "metadata": {},
     "output_type": "execute_result"
    }
   ],
   "source": [
    "# Konsumentoverskudd ung\n",
    "consumer_surplus=sp.integrate(demand_Qy(Qy)-py_eq,(Qy,0,Qy_equ))\n",
    "consumer_surplus"
   ]
  }
 ],
 "metadata": {
  "kernelspec": {
   "display_name": "Python 3 (ipykernel)",
   "language": "python",
   "name": "python3"
  },
  "language_info": {
   "codemirror_mode": {
    "name": "ipython",
    "version": 3
   },
   "file_extension": ".py",
   "mimetype": "text/x-python",
   "name": "python",
   "nbconvert_exporter": "python",
   "pygments_lexer": "ipython3",
   "version": "3.9.18"
  }
 },
 "nbformat": 4,
 "nbformat_minor": 5
}
