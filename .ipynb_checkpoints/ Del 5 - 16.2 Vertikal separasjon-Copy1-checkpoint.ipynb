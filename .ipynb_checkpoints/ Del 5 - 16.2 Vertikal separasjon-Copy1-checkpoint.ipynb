{
 "cells": [
  {
   "cell_type": "markdown",
   "id": "d7da4af5-664e-4c9e-bf79-c78815fc4a30",
   "metadata": {},
   "source": [
    "# Sok-2030 Næringsøkonomi og konkuransestrategi\n",
    "## Del 5 Relasjoner mellom bedrifter\n",
    "### Vertikal separasjon\n",
    "\n",
    "Vi antar et marked bestående av to oppstrømsbedrifter, M1 og M2, og to nedstrømsbedrifter, R1 og R2. Invers ettersprøsel er gitt ved: \n",
    "\n",
    "#####         P(Q) = A - B(qR1+qR2)\n",
    "\n",
    "Oppstrømsbedriftene produserer innsatsfaktor som selges til nedstrømsbedriftene til pris lik w. Oppstrømsbedriftene har marginalkostnader lik c, og nedstrømsbedriftene har marginalkostand lik k, pluss innkjøpskostander på w. \n",
    "### To-trinns spill: \n",
    "    Trinn 1: Oppstrømsbedriftene velger optimal pris til nedstrømsbedriftene; w\n",
    "    Trinn 2: Nedstrømsbedriftene velger optimalt kvantum og pris i sluttbrukermarkedet; P\n",
    "    \n",
    "Vi bruker baklengs indukjon og starter med Trinn 2."
   ]
  },
  {
   "cell_type": "code",
   "execution_count": 507,
   "id": "444fb2d1-a39e-44a7-977f-3620d5f266a2",
   "metadata": {},
   "outputs": [],
   "source": [
    "import sympy as sp\n",
    "from sympy import *\n",
    "import numpy as np\n",
    "from matplotlib import pyplot as plt"
   ]
  },
  {
   "cell_type": "markdown",
   "id": "25116caf-3189-49e1-94e1-5b36f96dc284",
   "metadata": {},
   "source": [
    "#### Trinn 2: Nedstrømsbedriftene velger optimalt produksjonsnivå i Cournot modell"
   ]
  },
  {
   "cell_type": "code",
   "execution_count": 508,
   "id": "aca6389c-8ff8-47a2-b10c-f544d7c26a6e",
   "metadata": {},
   "outputs": [],
   "source": [
    "qR1, qR2,qM1, qM2,c,k,w, A, B, QR, QM, P =symbols('q^R_1 q^R_2 q^M_1 q^M_2 c k w A B Q^R Q^M P ', \n",
    "                                          positive=True)"
   ]
  },
  {
   "cell_type": "code",
   "execution_count": 509,
   "id": "0f2e8f1c-a81f-4c93-85bf-10c764510e01",
   "metadata": {},
   "outputs": [],
   "source": [
    "def demand_1R(qR1):\n",
    "           return (A-B*qR1-B*qR2)"
   ]
  },
  {
   "cell_type": "code",
   "execution_count": 510,
   "id": "f98f0bd2-2e89-4077-890b-ccbb4539bf84",
   "metadata": {},
   "outputs": [],
   "source": [
    "def demand_2R(qR2):\n",
    "           return (A-B*qR1-B*qR2)"
   ]
  },
  {
   "cell_type": "code",
   "execution_count": 511,
   "id": "326862de-6c03-4b65-b106-95ac8bd4f60e",
   "metadata": {},
   "outputs": [],
   "source": [
    "def marginalrevenue_1R(qR1):\n",
    "    return (A-2*B*qR1-B*qR2)"
   ]
  },
  {
   "cell_type": "code",
   "execution_count": 512,
   "id": "2b06389f-e473-4e2b-a166-4418eda4a0f5",
   "metadata": {},
   "outputs": [],
   "source": [
    "def marginalrevenue_2R(qR2):\n",
    "    return (A-B*qR1-2*B*qR2)"
   ]
  },
  {
   "cell_type": "markdown",
   "id": "af3d5839-5209-4a9f-ac9e-2279a6ddf3a6",
   "metadata": {},
   "source": [
    "#### Optimal tilpasning der MR = MC"
   ]
  },
  {
   "cell_type": "code",
   "execution_count": 513,
   "id": "9aa7b58a-6022-44d8-b7da-181cf7df656b",
   "metadata": {},
   "outputs": [
    {
     "data": {
      "text/latex": [
       "$\\displaystyle A - 2 B q^{R}_{1} - B q^{R}_{2} = k + w$"
      ],
      "text/plain": [
       "Eq(A - 2*B*q^R_1 - B*q^R_2, k + w)"
      ]
     },
     "execution_count": 513,
     "metadata": {},
     "output_type": "execute_result"
    }
   ],
   "source": [
    "# Optimal tilpasning for bedrift 2 der MR = MC \n",
    "equ_R1 = sp.Eq(marginalrevenue_1R(qR1),w+k)\n",
    "equ_R1"
   ]
  },
  {
   "cell_type": "code",
   "execution_count": 514,
   "id": "03f37842-bccb-4107-99db-f51cf30647a7",
   "metadata": {},
   "outputs": [
    {
     "data": {
      "text/latex": [
       "$\\displaystyle A - B q^{R}_{1} - 2 B q^{R}_{2} = k + w$"
      ],
      "text/plain": [
       "Eq(A - B*q^R_1 - 2*B*q^R_2, k + w)"
      ]
     },
     "execution_count": 514,
     "metadata": {},
     "output_type": "execute_result"
    }
   ],
   "source": [
    "# Optimal tilpasning for bedrift 2 der MR = MC\n",
    "equ_R2 = sp.Eq(marginalrevenue_2R(qR2),w+k)\n",
    "equ_R2"
   ]
  },
  {
   "cell_type": "code",
   "execution_count": 515,
   "id": "9cc71a86-15c0-43a3-8014-8049fa210639",
   "metadata": {},
   "outputs": [
    {
     "data": {
      "text/latex": [
       "$\\displaystyle \\frac{A - B q^{R}_{2} - k - w}{2 B}$"
      ],
      "text/plain": [
       "(A - B*q^R_2 - k - w)/(2*B)"
      ]
     },
     "execution_count": 515,
     "metadata": {},
     "output_type": "execute_result"
    }
   ],
   "source": [
    "# reaksjonsfunksjon til bedrift 1\n",
    "qR1_equ = sp.solve(equ_R1, qR1)[0]\n",
    "qR1_equ"
   ]
  },
  {
   "cell_type": "code",
   "execution_count": 516,
   "id": "bfa146cf-72a0-48af-87d8-3800cf69ce9a",
   "metadata": {},
   "outputs": [
    {
     "data": {
      "text/latex": [
       "$\\displaystyle \\frac{A - B q^{R}_{1} - k - w}{2 B}$"
      ],
      "text/plain": [
       "(A - B*q^R_1 - k - w)/(2*B)"
      ]
     },
     "execution_count": 516,
     "metadata": {},
     "output_type": "execute_result"
    }
   ],
   "source": [
    "# reaksjonsfunksjon til bedrift 2\n",
    "qR2_equ=sp.solve(equ_R2,qR2)[0]\n",
    "qR2_equ"
   ]
  },
  {
   "cell_type": "markdown",
   "id": "dc846b39-9772-47d6-82df-9d2dc307f8d9",
   "metadata": {},
   "source": [
    "#### Optimal kvantum for nestrømsbedriftene"
   ]
  },
  {
   "cell_type": "code",
   "execution_count": 517,
   "id": "6b6dd3fb-03b0-4278-8a0c-d6ec80ee5e36",
   "metadata": {},
   "outputs": [
    {
     "data": {
      "text/latex": [
       "$\\displaystyle \\frac{A - k - w}{3 B}$"
      ],
      "text/plain": [
       "(A - k - w)/(3*B)"
      ]
     },
     "execution_count": 517,
     "metadata": {},
     "output_type": "execute_result"
    }
   ],
   "source": [
    "# setter uttrykk for q2 inn i q1 og finner optimalt kvantum for R1\n",
    "\n",
    "qR1_unresv_eq = qR1_equ.subs(qR2, qR2_equ)\n",
    "qR1_opt = sp.solve(sp.Eq(qR1, qR1_unresv_eq), qR1)[0]\n",
    "qR1_opt"
   ]
  },
  {
   "cell_type": "code",
   "execution_count": 518,
   "id": "96c0d9fb-3450-4c3d-abff-88ff4280ad13",
   "metadata": {},
   "outputs": [
    {
     "data": {
      "text/latex": [
       "$\\displaystyle q^{R}_{1} = \\frac{A - k - w}{3 B}$"
      ],
      "text/plain": [
       "Eq(q^R_1, (A - k - w)/(3*B))"
      ]
     },
     "execution_count": 518,
     "metadata": {},
     "output_type": "execute_result"
    }
   ],
   "source": [
    "qR1_unresv = sp.Eq(qR1, qR1_opt)\n",
    "qR1_unresv"
   ]
  },
  {
   "cell_type": "code",
   "execution_count": 519,
   "id": "f16b7891-d356-41a7-b60c-4c65e3589e88",
   "metadata": {},
   "outputs": [
    {
     "data": {
      "text/latex": [
       "$\\displaystyle \\frac{A - k - w}{3 B}$"
      ],
      "text/plain": [
       "(A - k - w)/(3*B)"
      ]
     },
     "execution_count": 519,
     "metadata": {},
     "output_type": "execute_result"
    }
   ],
   "source": [
    "# setter uttrykk for q1 inn i q2 og finner optimalt kvantum for R2\n",
    "\n",
    "qR2_unresv_eq = qR2_equ.subs(qR1, qR1_equ)\n",
    "qR2_opt = sp.solve(sp.Eq(qR2, qR2_unresv_eq), qR2)[0]\n",
    "qR2_opt"
   ]
  },
  {
   "cell_type": "code",
   "execution_count": 520,
   "id": "ceaf278a-2083-4438-aef2-e88f6d79fbbd",
   "metadata": {},
   "outputs": [
    {
     "data": {
      "text/latex": [
       "$\\displaystyle q^{R}_{2} = \\frac{A - k - w}{3 B}$"
      ],
      "text/plain": [
       "Eq(q^R_2, (A - k - w)/(3*B))"
      ]
     },
     "execution_count": 520,
     "metadata": {},
     "output_type": "execute_result"
    }
   ],
   "source": [
    "qR2_unresv = sp.Eq(qR2, qR2_opt)\n",
    "qR2_unresv"
   ]
  },
  {
   "cell_type": "markdown",
   "id": "bc181506-f4aa-422f-b3d5-c6e2dc801075",
   "metadata": {},
   "source": [
    "####  Trinn 1: Oppstrømsbedriftene velger optimal pris til nedstrømsbedriftene \n",
    "På trinn 1 vil etterspørselen være lik optimalt kvantum fra trinn 2: QR = qR1 + qR2 = 2(A-k-w)/3B."
   ]
  },
  {
   "cell_type": "code",
   "execution_count": 521,
   "id": "4045145c-51fe-418e-8942-d5fc2b7e9357",
   "metadata": {},
   "outputs": [
    {
     "data": {
      "text/latex": [
       "$\\displaystyle \\frac{2 \\left(A - k - w\\right)}{3 B}$"
      ],
      "text/plain": [
       "2*(A - k - w)/(3*B)"
      ]
     },
     "execution_count": 521,
     "metadata": {},
     "output_type": "execute_result"
    }
   ],
   "source": [
    "# Optimalt kvantum fra trinn 1: \n",
    "QR_eq = qR1_opt + qR2_opt\n",
    "QR_eq"
   ]
  },
  {
   "cell_type": "code",
   "execution_count": 522,
   "id": "965a0b0c-f873-4f22-b57c-6c928d52af44",
   "metadata": {},
   "outputs": [
    {
     "data": {
      "text/latex": [
       "$\\displaystyle Q^{R} = \\frac{2 \\left(A - k - w\\right)}{3 B}$"
      ],
      "text/plain": [
       "Eq(Q^R, 2*(A - k - w)/(3*B))"
      ]
     },
     "execution_count": 522,
     "metadata": {},
     "output_type": "execute_result"
    }
   ],
   "source": [
    "# direkte etterspørsel\n",
    "QR_unresv = sp.Eq(QR, QR_eq)\n",
    "QR_unresv"
   ]
  },
  {
   "cell_type": "code",
   "execution_count": 523,
   "id": "89294f02-9740-4331-bc8b-5a7d0a31dbab",
   "metadata": {},
   "outputs": [
    {
     "data": {
      "text/latex": [
       "$\\displaystyle A - \\frac{3 B Q^{R}}{2} - k$"
      ],
      "text/plain": [
       "A - 3*B*Q^R/2 - k"
      ]
     },
     "execution_count": 523,
     "metadata": {},
     "output_type": "execute_result"
    }
   ],
   "source": [
    "# Invers etterspørsel for M1 og M2:\n",
    "\n",
    "w_equ = sp.solve(QR_unresv, w)[0]\n",
    "w_equ"
   ]
  },
  {
   "cell_type": "code",
   "execution_count": 524,
   "id": "5b4ca0e0-88cd-46e6-90af-7c8b5efaaf2c",
   "metadata": {},
   "outputs": [
    {
     "data": {
      "text/latex": [
       "$\\displaystyle w = A - \\frac{3 B Q^{R}}{2} - k$"
      ],
      "text/plain": [
       "Eq(w, A - 3*B*Q^R/2 - k)"
      ]
     },
     "execution_count": 524,
     "metadata": {},
     "output_type": "execute_result"
    }
   ],
   "source": [
    "w_unresv = sp.Eq(w, w_equ)\n",
    "w_unresv"
   ]
  },
  {
   "cell_type": "markdown",
   "id": "e9e4589d-e831-484f-ba08-bbdea287488c",
   "metadata": {},
   "source": [
    "### Oppstømsbedriftene velger optimalt kvantum og pris i Cournot konkurranse"
   ]
  },
  {
   "cell_type": "code",
   "execution_count": 525,
   "id": "0a232e56-f3d8-4b68-b4b7-ca038ddcf8f9",
   "metadata": {},
   "outputs": [],
   "source": [
    "def demand_1M(qM1):\n",
    "           return (A-k-(3*B*(qM1+qM2)/2))"
   ]
  },
  {
   "cell_type": "code",
   "execution_count": 526,
   "id": "6aab70b6-a6f4-42dc-9f6b-896375acde28",
   "metadata": {},
   "outputs": [],
   "source": [
    "def demand_2M(qM2):\n",
    "           return (A-k-(3*B*(qM1+qM2)/2))"
   ]
  },
  {
   "cell_type": "code",
   "execution_count": 527,
   "id": "7329e5c5-305a-4c94-8623-173c4630271f",
   "metadata": {},
   "outputs": [],
   "source": [
    "def marginalrevenue_1M(qM1):\n",
    "     return (A-k-(3*B*qM1)-(3*B*qM2)/2)"
   ]
  },
  {
   "cell_type": "code",
   "execution_count": 528,
   "id": "5d0666a0-1af9-433b-a1bd-09f93966f152",
   "metadata": {},
   "outputs": [],
   "source": [
    "def marginalrevenue_2M(qM2):\n",
    "     return (A-k-(3*B*qM2)-(3*B*qM1)/2)"
   ]
  },
  {
   "cell_type": "code",
   "execution_count": 529,
   "id": "7621213b-7b5a-4ca5-bc40-860681f931c4",
   "metadata": {},
   "outputs": [
    {
     "data": {
      "text/latex": [
       "$\\displaystyle A - 3 B q^{M}_{1} - \\frac{3 B q^{M}_{2}}{2} - k = c$"
      ],
      "text/plain": [
       "Eq(A - 3*B*q^M_1 - 3*B*q^M_2/2 - k, c)"
      ]
     },
     "execution_count": 529,
     "metadata": {},
     "output_type": "execute_result"
    }
   ],
   "source": [
    "# Optimal tilpasning for M1 der MR = MC\n",
    "\n",
    "equ_M1 = sp.Eq(marginalrevenue_1M(qM1),c)\n",
    "equ_M1"
   ]
  },
  {
   "cell_type": "code",
   "execution_count": 530,
   "id": "99e76ca0-892f-46bd-bcec-f2a0a9950903",
   "metadata": {},
   "outputs": [
    {
     "data": {
      "text/latex": [
       "$\\displaystyle A - \\frac{3 B q^{M}_{1}}{2} - 3 B q^{M}_{2} - k = c$"
      ],
      "text/plain": [
       "Eq(A - 3*B*q^M_1/2 - 3*B*q^M_2 - k, c)"
      ]
     },
     "execution_count": 530,
     "metadata": {},
     "output_type": "execute_result"
    }
   ],
   "source": [
    "# Optimal tilpasning for M2 der MR = MC\n",
    "\n",
    "equ_M2 = sp.Eq(marginalrevenue_2M(qM2),c)\n",
    "equ_M2"
   ]
  },
  {
   "cell_type": "code",
   "execution_count": 531,
   "id": "7f1d8356-f4bd-4f5f-b0a3-44cad9f63179",
   "metadata": {},
   "outputs": [
    {
     "data": {
      "text/latex": [
       "$\\displaystyle \\frac{\\frac{A}{3} - \\frac{B q^{M}_{2}}{2} - \\frac{c}{3} - \\frac{k}{3}}{B}$"
      ],
      "text/plain": [
       "(A/3 - B*q^M_2/2 - c/3 - k/3)/B"
      ]
     },
     "execution_count": 531,
     "metadata": {},
     "output_type": "execute_result"
    }
   ],
   "source": [
    "#reaksjonsfunksjon til bedrift 1\n",
    "qM1_equ = sp.solve(equ_M1, qM1)[0]\n",
    "qM1_equ\n"
   ]
  },
  {
   "cell_type": "code",
   "execution_count": 532,
   "id": "5665cda0-2a34-4258-a482-2fb25757dca6",
   "metadata": {},
   "outputs": [
    {
     "data": {
      "text/latex": [
       "$\\displaystyle \\frac{\\frac{A}{3} - \\frac{B q^{M}_{1}}{2} - \\frac{c}{3} - \\frac{k}{3}}{B}$"
      ],
      "text/plain": [
       "(A/3 - B*q^M_1/2 - c/3 - k/3)/B"
      ]
     },
     "execution_count": 532,
     "metadata": {},
     "output_type": "execute_result"
    }
   ],
   "source": [
    "#reaksjonsfunksjon til bedrift 2\n",
    "qM2_equ = sp.solve(equ_M2, qM2)[0]\n",
    "qM2_equ"
   ]
  },
  {
   "cell_type": "code",
   "execution_count": 533,
   "id": "230c73d5-c3f8-4d64-9e13-ca4f081920e4",
   "metadata": {},
   "outputs": [
    {
     "data": {
      "text/latex": [
       "$\\displaystyle \\frac{2 \\left(A - c - k\\right)}{9 B}$"
      ],
      "text/plain": [
       "2*(A - c - k)/(9*B)"
      ]
     },
     "execution_count": 533,
     "metadata": {},
     "output_type": "execute_result"
    }
   ],
   "source": [
    "#  setter uttrykk for qM2 inn i qM1 og finner optimalt kvantum til M1:\n",
    "\n",
    "qM1_unresv_eq = qM1_equ.subs(qM2, qM2_equ)\n",
    "qM1_opt = sp.solve(sp.Eq(qM1, qM1_unresv_eq), qM1)[0]\n",
    "qM1_opt"
   ]
  },
  {
   "cell_type": "code",
   "execution_count": 534,
   "id": "84ddb862-2d9a-4068-8824-b2a3a742b835",
   "metadata": {},
   "outputs": [
    {
     "data": {
      "text/latex": [
       "$\\displaystyle q^{M}_{1} = \\frac{2 \\left(A - c - k\\right)}{9 B}$"
      ],
      "text/plain": [
       "Eq(q^M_1, 2*(A - c - k)/(9*B))"
      ]
     },
     "execution_count": 534,
     "metadata": {},
     "output_type": "execute_result"
    }
   ],
   "source": [
    "# Otimalt kvantum M1\n",
    "qM1_unresv = sp.Eq(qM1, qM1_opt)\n",
    "qM1_unresv"
   ]
  },
  {
   "cell_type": "code",
   "execution_count": 535,
   "id": "ecc811c9-ac4d-4bbf-a008-d252c2fee561",
   "metadata": {},
   "outputs": [
    {
     "data": {
      "text/latex": [
       "$\\displaystyle \\frac{2 \\left(A - c - k\\right)}{9 B}$"
      ],
      "text/plain": [
       "2*(A - c - k)/(9*B)"
      ]
     },
     "execution_count": 535,
     "metadata": {},
     "output_type": "execute_result"
    }
   ],
   "source": [
    "# setter uttrykk for qM1 inn i qM2 og finner optimalt kvantum til M2:\n",
    "\n",
    "qM2_unresv_eq = qM2_equ.subs(qM1, qM1_equ)\n",
    "qM2_opt = sp.solve(sp.Eq(qM2, qM2_unresv_eq), qM2)[0]\n",
    "qM2_opt"
   ]
  },
  {
   "cell_type": "code",
   "execution_count": 536,
   "id": "eef38f76-c840-45b8-b971-f3fb08dfb278",
   "metadata": {},
   "outputs": [
    {
     "data": {
      "text/latex": [
       "$\\displaystyle q^{M}_{2} = \\frac{2 \\left(A - c - k\\right)}{9 B}$"
      ],
      "text/plain": [
       "Eq(q^M_2, 2*(A - c - k)/(9*B))"
      ]
     },
     "execution_count": 536,
     "metadata": {},
     "output_type": "execute_result"
    }
   ],
   "source": [
    "# Otimalt kvantum M1\n",
    "qM2_unresv = sp.Eq(qM2, qM2_opt)\n",
    "qM2_unresv"
   ]
  },
  {
   "cell_type": "code",
   "execution_count": 537,
   "id": "bb64c51e-41fd-4cc1-b6f8-4f4bad2b3c96",
   "metadata": {},
   "outputs": [
    {
     "data": {
      "text/latex": [
       "$\\displaystyle \\frac{4 \\left(A - c - k\\right)}{9 B}$"
      ],
      "text/plain": [
       "4*(A - c - k)/(9*B)"
      ]
     },
     "execution_count": 537,
     "metadata": {},
     "output_type": "execute_result"
    }
   ],
   "source": [
    "# Totalt kvantum fra oppstrømsbedriftene\n",
    "QM_eq = qM1_opt + qM2_opt\n",
    "QM_eq"
   ]
  },
  {
   "cell_type": "code",
   "execution_count": 538,
   "id": "d279f001-c2d6-4d31-a013-8ea5d5ab5798",
   "metadata": {},
   "outputs": [
    {
     "data": {
      "text/latex": [
       "$\\displaystyle \\frac{A}{3} + \\frac{2 c}{3} - \\frac{k}{3}$"
      ],
      "text/plain": [
       "A/3 + 2*c/3 - k/3"
      ]
     },
     "execution_count": 538,
     "metadata": {},
     "output_type": "execute_result"
    }
   ],
   "source": [
    "# Finner pris (w) ved å sette totalt kvantum inn i etterspørselen\n",
    "\n",
    "w_opt=demand_1M(qM1).subs({qM1:qM1_opt,qM2:qM2_opt})\n",
    "w_opt\n"
   ]
  },
  {
   "cell_type": "code",
   "execution_count": 539,
   "id": "ecff40a4-e8c0-4717-87b2-5475d85ff422",
   "metadata": {},
   "outputs": [
    {
     "data": {
      "text/latex": [
       "$\\displaystyle w = \\frac{A}{3} + \\frac{2 c}{3} - \\frac{k}{3}$"
      ],
      "text/plain": [
       "Eq(w, A/3 + 2*c/3 - k/3)"
      ]
     },
     "execution_count": 539,
     "metadata": {},
     "output_type": "execute_result"
    }
   ],
   "source": [
    "# Optimal pris til nedstrømsbedriftene\n",
    "\n",
    "w_equ = sp.Eq(w, demand_1M(qM1).subs({qM1:qM1_opt,qM2:qM2_opt}))\n",
    "w_equ"
   ]
  },
  {
   "cell_type": "markdown",
   "id": "7efc36d7-a4af-4544-bbc3-2a35a923513d",
   "metadata": {},
   "source": [
    "### Optimalt kvantum og pris i nedstrømsmarkedet"
   ]
  },
  {
   "cell_type": "code",
   "execution_count": 540,
   "id": "a01d8fe9-081a-46e6-8e4d-1ec95997217d",
   "metadata": {},
   "outputs": [
    {
     "data": {
      "text/latex": [
       "$\\displaystyle \\frac{2 \\left(A - c - k\\right)}{9 B}$"
      ],
      "text/plain": [
       "2*(A - c - k)/(9*B)"
      ]
     },
     "execution_count": 540,
     "metadata": {},
     "output_type": "execute_result"
    }
   ],
   "source": [
    "# Setter inn for w i optimalt kvantum for R1 fra Trinn 2\n",
    "\n",
    "qR1_opt2=qR1_opt.subs({w:w_opt})\n",
    "sp.simplify(qR1_opt2)"
   ]
  },
  {
   "cell_type": "code",
   "execution_count": 541,
   "id": "a35b826c-a5fe-40de-9296-3da22fad571b",
   "metadata": {},
   "outputs": [
    {
     "data": {
      "text/latex": [
       "$\\displaystyle \\frac{2 \\left(A - c - k\\right)}{9 B}$"
      ],
      "text/plain": [
       "2*(A - c - k)/(9*B)"
      ]
     },
     "execution_count": 541,
     "metadata": {},
     "output_type": "execute_result"
    }
   ],
   "source": [
    "# Setter inn for w i optimalt kvantum for R2 fra Trinn 2\n",
    "\n",
    "qR2_opt2=qR2_opt.subs({w:w_opt})\n",
    "sp.simplify(qR2_opt2)"
   ]
  },
  {
   "cell_type": "code",
   "execution_count": 542,
   "id": "13d59881-452d-4750-ada6-996e5233d533",
   "metadata": {},
   "outputs": [
    {
     "data": {
      "text/latex": [
       "$\\displaystyle \\frac{5 A}{9} + \\frac{4 c}{9} + \\frac{4 k}{9}$"
      ],
      "text/plain": [
       "5*A/9 + 4*c/9 + 4*k/9"
      ]
     },
     "execution_count": 542,
     "metadata": {},
     "output_type": "execute_result"
    }
   ],
   "source": [
    "# Optimal pris til sluttbruker\n",
    "demand_1R(qR1).subs({qR1:qR1_opt2,qR2:qR2_opt2})"
   ]
  },
  {
   "cell_type": "code",
   "execution_count": 545,
   "id": "83cd2c25-a2a6-44bf-940f-d47174b8e37e",
   "metadata": {},
   "outputs": [
    {
     "data": {
      "text/latex": [
       "$\\displaystyle P = \\frac{5 A}{9} + \\frac{4 c}{9} + \\frac{4 k}{9}$"
      ],
      "text/plain": [
       "Eq(P, 5*A/9 + 4*c/9 + 4*k/9)"
      ]
     },
     "execution_count": 545,
     "metadata": {},
     "output_type": "execute_result"
    }
   ],
   "source": [
    "# Optimal pris til sluttbruker\n",
    "\n",
    "P_equ = sp.Eq(P, demand_1R(qR1).subs({qR1:qR1_opt2,qR2:qR2_opt2}))\n",
    "P_equ"
   ]
  },
  {
   "cell_type": "code",
   "execution_count": 543,
   "id": "223acf5e-ee34-4eb9-a164-912aa63c07b8",
   "metadata": {},
   "outputs": [
    {
     "data": {
      "text/latex": [
       "$\\displaystyle \\frac{4 \\left(- A + c + k\\right)^{2}}{81 B}$"
      ],
      "text/plain": [
       "4*(-A + c + k)**2/(81*B)"
      ]
     },
     "execution_count": 543,
     "metadata": {},
     "output_type": "execute_result"
    }
   ],
   "source": [
    "# Profitt for nedstrømsbedriftene er lik (p -k-w)q:\n",
    "def profitt(qR1):\n",
    "    return (demand_1R(qR1).subs({qR1:qR1_opt2,qR2:qR2_opt2})-k-w.subs({w:w_opt}))*qR1_opt2\n",
    "\n",
    "sp.simplify(profitt(qR1))"
   ]
  },
  {
   "cell_type": "code",
   "execution_count": 544,
   "id": "2d489e72-393e-4433-8fe3-237980045cec",
   "metadata": {},
   "outputs": [
    {
     "data": {
      "text/latex": [
       "$\\displaystyle \\frac{2 \\left(- A + c + k\\right)^{2}}{27 B}$"
      ],
      "text/plain": [
       "2*(-A + c + k)**2/(27*B)"
      ]
     },
     "execution_count": 544,
     "metadata": {},
     "output_type": "execute_result"
    }
   ],
   "source": [
    "# Profitt for oppstrømsbedriftene er lik (w-c)q:\n",
    "def profitt(qM1):\n",
    "    return (demand_1M(qM1).subs({qM1:qM1_opt,qM2:qM2_opt})-c)*qM2_opt\n",
    "\n",
    "sp.simplify(profitt(qM1))"
   ]
  }
 ],
 "metadata": {
  "kernelspec": {
   "display_name": "Python 3 (ipykernel)",
   "language": "python",
   "name": "python3"
  },
  "language_info": {
   "codemirror_mode": {
    "name": "ipython",
    "version": 3
   },
   "file_extension": ".py",
   "mimetype": "text/x-python",
   "name": "python",
   "nbconvert_exporter": "python",
   "pygments_lexer": "ipython3",
   "version": "3.9.18"
  }
 },
 "nbformat": 4,
 "nbformat_minor": 5
}
