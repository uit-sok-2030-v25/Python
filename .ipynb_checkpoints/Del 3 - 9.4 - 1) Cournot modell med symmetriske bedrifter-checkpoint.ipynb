{
 "cells": [
  {
   "cell_type": "markdown",
   "id": "960378ae-77ed-4d82-a657-959232c5588a",
   "metadata": {},
   "source": [
    "## Sok-2030 Næringsøkonomi og konkuransestrategi\n",
    "### Del 3 Oligopolmodeller\n",
    "Cournot modell med symmetriske bedrifter\n",
    "\n",
    "Vi har en etterspørsel som er lik P = A - BQ, hvor Q = q1 + q2. Marginalkostnader er lik c\n"
   ]
  },
  {
   "cell_type": "code",
   "execution_count": 24,
   "id": "95c90570-e404-4848-84d2-aaaa900a4d65",
   "metadata": {},
   "outputs": [],
   "source": [
    "import sympy as sp\n",
    "from sympy import *\n",
    "from sympy.solvers import solve\n",
    "from matplotlib import pyplot as plt\n",
    "import numpy as np"
   ]
  },
  {
   "cell_type": "code",
   "execution_count": 25,
   "id": "522b545b-503b-468d-99f5-c7e5004fedfc",
   "metadata": {},
   "outputs": [],
   "source": [
    "q1, q2,c, A, B=symbols('q1 q2 c A B')"
   ]
  },
  {
   "cell_type": "code",
   "execution_count": 26,
   "id": "fce83595-a951-48f9-a57f-ed29186379f8",
   "metadata": {},
   "outputs": [],
   "source": [
    "def demand_1(q1):\n",
    "           return (A-B*q1-B*q2)"
   ]
  },
  {
   "cell_type": "code",
   "execution_count": 27,
   "id": "d07f1b3e-c799-49ac-b954-6dd51f7e7221",
   "metadata": {},
   "outputs": [],
   "source": [
    "def demand_2(q2):\n",
    "           return (A-B*q1-B*q2)"
   ]
  },
  {
   "cell_type": "code",
   "execution_count": 28,
   "id": "9530b40a-5f94-4e7e-ae70-a4e4362ffd4b",
   "metadata": {},
   "outputs": [],
   "source": [
    "def marginalrevenue_1(q1):\n",
    "    return (A-2*B*q1-B*q2)"
   ]
  },
  {
   "cell_type": "code",
   "execution_count": 29,
   "id": "3b5283ac-8968-4680-87c7-d57bf083ffb0",
   "metadata": {},
   "outputs": [],
   "source": [
    "def marginalrevenue_2(q2):\n",
    "    return (A-B*q1-2*B*q2)"
   ]
  },
  {
   "cell_type": "markdown",
   "id": "3bed2457-0885-488a-aecd-9583b4fa9fb8",
   "metadata": {},
   "source": [
    "Optimal tilpasning der MR = MC"
   ]
  },
  {
   "cell_type": "code",
   "execution_count": 30,
   "id": "4663fc55-4829-461a-82ec-92da1c8b38a7",
   "metadata": {},
   "outputs": [
    {
     "data": {
      "text/latex": [
       "$\\displaystyle A - 2 B q_{1} - B q_{2} = c$"
      ],
      "text/plain": [
       "Eq(A - 2*B*q1 - B*q2, c)"
      ]
     },
     "execution_count": 30,
     "metadata": {},
     "output_type": "execute_result"
    }
   ],
   "source": [
    "q1=sp.symbols('q1', real=True, positive=True)\n",
    "equ1=sp.Eq(marginalrevenue_1(q1),c)\n",
    "equ1"
   ]
  },
  {
   "cell_type": "code",
   "execution_count": 31,
   "id": "d32b91e4-ead6-4b74-bdb3-bb89c29372ee",
   "metadata": {},
   "outputs": [
    {
     "data": {
      "text/latex": [
       "$\\displaystyle \\frac{A - B q_{2} - c}{2 B}$"
      ],
      "text/plain": [
       "(A - B*q2 - c)/(2*B)"
      ]
     },
     "execution_count": 31,
     "metadata": {},
     "output_type": "execute_result"
    }
   ],
   "source": [
    "#reaksjonsfunksjon til bedrift 1\n",
    "q1_equ=sp.solve(equ1,q1)[0]\n",
    "q1_equ"
   ]
  },
  {
   "cell_type": "code",
   "execution_count": 32,
   "id": "9f2c44f5-5723-4bf4-bb96-cbc5aac6787f",
   "metadata": {},
   "outputs": [
    {
     "data": {
      "text/latex": [
       "$\\displaystyle A - B q_{1} - 2 B q_{2} = c$"
      ],
      "text/plain": [
       "Eq(A - B*q1 - 2*B*q2, c)"
      ]
     },
     "execution_count": 32,
     "metadata": {},
     "output_type": "execute_result"
    }
   ],
   "source": [
    "q2=sp.symbols('q2', real=True, positive=True)\n",
    "equ2=sp.Eq(marginalrevenue_2(q2),c)\n",
    "equ2"
   ]
  },
  {
   "cell_type": "code",
   "execution_count": 33,
   "id": "75652969-1398-4e3d-8837-073b5ab01c67",
   "metadata": {},
   "outputs": [
    {
     "data": {
      "text/latex": [
       "$\\displaystyle \\frac{A - B q_{1} - c}{2 B}$"
      ],
      "text/plain": [
       "(A - B*q1 - c)/(2*B)"
      ]
     },
     "execution_count": 33,
     "metadata": {},
     "output_type": "execute_result"
    }
   ],
   "source": [
    "# reaksjonsfunksjon til bedrift 2\n",
    "q2_equ=sp.solve(equ2,q2)[0]\n",
    "q2_equ"
   ]
  },
  {
   "cell_type": "code",
   "execution_count": null,
   "id": "47e3e7c9-ca9c-4c76-86f4-1bb57e79c0f8",
   "metadata": {},
   "outputs": [],
   "source": [
    "For å finne optimalt kvantum til bedrift 1 setter vi reaksjonsfunksjon til bedrift 2 inn i reaksjonsfunksjon til bedrift 1 "
   ]
  },
  {
   "cell_type": "code",
   "execution_count": 46,
   "id": "cf7ff99c-a301-4f94-ad73-6bba6ab0b285",
   "metadata": {},
   "outputs": [],
   "source": [
    "# finner uttrykk for q1 og q2 der MR = MC\n",
    "q1_eq = sp.solve(sp.Eq(marginalrevenue_1(q1), c), q1)[0]\n",
    "q2_eq = sp.solve(sp.Eq(marginalrevenue_2(q2), c), q2)[0]"
   ]
  },
  {
   "cell_type": "code",
   "execution_count": 47,
   "id": "55e0a99c-e41d-44f5-be08-757c3b0f8d71",
   "metadata": {},
   "outputs": [],
   "source": [
    "# setter uttrykk for q2 inn i q1\n",
    "q1_unresv_eq = q1_eq.subs(q2, q2_eq)"
   ]
  },
  {
   "cell_type": "code",
   "execution_count": 48,
   "id": "242d090b-6dca-4a17-bccb-46d265219af3",
   "metadata": {},
   "outputs": [
    {
     "data": {
      "text/latex": [
       "$\\displaystyle \\frac{A - c}{3 B}$"
      ],
      "text/plain": [
       "(A - c)/(3*B)"
      ]
     },
     "execution_count": 48,
     "metadata": {},
     "output_type": "execute_result"
    }
   ],
   "source": [
    "# Løser for q1, og får optimalt kvantum for bedrift 1:\n",
    "sp.solve(sp.Eq(q1_unresv_eq, q1), q1)[0]"
   ]
  },
  {
   "cell_type": "code",
   "execution_count": 50,
   "id": "0111c90f-8316-4f98-b776-ab5d6780b561",
   "metadata": {},
   "outputs": [],
   "source": [
    "# setter uttrykk for q1 inn i q2\n",
    "q2_unresv_eq = q2_eq.subs(q1, q1_eq)"
   ]
  },
  {
   "cell_type": "code",
   "execution_count": 51,
   "id": "42fb5256-087e-47b0-8a8d-90f88d1a42c5",
   "metadata": {},
   "outputs": [
    {
     "data": {
      "text/latex": [
       "$\\displaystyle \\frac{A - c}{3 B}$"
      ],
      "text/plain": [
       "(A - c)/(3*B)"
      ]
     },
     "execution_count": 51,
     "metadata": {},
     "output_type": "execute_result"
    }
   ],
   "source": [
    "# Løser for q2, og får optimalt kvantum for bedrift 1:\n",
    "sp.solve(sp.Eq(q2_unresv_eq, q2), q2)[0]"
   ]
  }
 ],
 "metadata": {
  "kernelspec": {
   "display_name": "Python 3 (ipykernel)",
   "language": "python",
   "name": "python3"
  },
  "language_info": {
   "codemirror_mode": {
    "name": "ipython",
    "version": 3
   },
   "file_extension": ".py",
   "mimetype": "text/x-python",
   "name": "python",
   "nbconvert_exporter": "python",
   "pygments_lexer": "ipython3",
   "version": "3.9.18"
  }
 },
 "nbformat": 4,
 "nbformat_minor": 5
}
