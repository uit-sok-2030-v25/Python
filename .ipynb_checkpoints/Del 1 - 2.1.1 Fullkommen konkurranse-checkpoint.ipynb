{
 "cells": [
  {
   "cell_type": "markdown",
   "id": "079a66ec-95d3-449b-91df-3f6fd9d38d17",
   "metadata": {
    "tags": []
   },
   "source": [
    "# Sok-2030 Næringsøkonomi og konkuransestrategi\n",
    "## Del 1 Grunleggende Mikroøkonomi\n",
    "### Optimal tilpasning ved fullkommen konkurranse\n",
    "### Løsning av Pratice Problem 2.1\n",
    "Kode her er basert på notebook 5 fra sok-1003/2021  (Espen Sirnes) og sok-1003/2022  (Ole Kristian Aars)"
   ]
  },
  {
   "cell_type": "code",
   "execution_count": 2,
   "id": "a9180eae-7dbe-4efe-9890-8d97beeeb167",
   "metadata": {},
   "outputs": [],
   "source": [
    "import sympy as sp\n",
    "import numpy as np\n",
    "from matplotlib import pyplot as plt"
   ]
  },
  {
   "cell_type": "code",
   "execution_count": 3,
   "id": "aa3506ae-ab79-4a9b-96fe-394e9f1e10e6",
   "metadata": {},
   "outputs": [],
   "source": [
    "def demand(P):\n",
    "    return ((6000-50*P)/9)"
   ]
  },
  {
   "cell_type": "code",
   "execution_count": 4,
   "id": "4668ffd9-18ce-4a34-80ab-fccd35ea8566",
   "metadata": {},
   "outputs": [],
   "source": [
    "def supply(P):\n",
    "    return 25*P-250"
   ]
  },
  {
   "cell_type": "code",
   "execution_count": 5,
   "id": "e52cfae2-3f27-4982-ac57-2de3222480de",
   "metadata": {},
   "outputs": [
    {
     "data": {
      "text/latex": [
       "$\\displaystyle \\frac{2000}{3} - \\frac{50 P}{9} = 25 P - 250$"
      ],
      "text/plain": [
       "Eq(2000/3 - 50*P/9, 25*P - 250)"
      ]
     },
     "execution_count": 5,
     "metadata": {},
     "output_type": "execute_result"
    }
   ],
   "source": [
    "# Vi finner markedlikevet der etterspørsel er lik tilbud\n",
    "P=sp.symbols('P', real=True, positive=True)\n",
    "equ=sp.Eq(demand(P),supply(P))\n",
    "equ"
   ]
  },
  {
   "cell_type": "markdown",
   "id": "e7378fde-33ff-448e-9659-ef58055c189a",
   "metadata": {},
   "source": [
    "### Optimal pris og kvantum blir da:"
   ]
  },
  {
   "cell_type": "code",
   "execution_count": 6,
   "id": "c8e32c98-1e5f-4abe-b1fe-23404912deb4",
   "metadata": {},
   "outputs": [
    {
     "data": {
      "text/latex": [
       "$\\displaystyle 30$"
      ],
      "text/plain": [
       "30"
      ]
     },
     "execution_count": 6,
     "metadata": {},
     "output_type": "execute_result"
    }
   ],
   "source": [
    "P_equ=sp.solve(equ,P)[0]\n",
    "P_equ"
   ]
  },
  {
   "cell_type": "code",
   "execution_count": 7,
   "id": "920ca0f7-3439-4356-a2c7-37a80c979a38",
   "metadata": {},
   "outputs": [
    {
     "data": {
      "text/latex": [
       "$\\displaystyle 500$"
      ],
      "text/plain": [
       "500"
      ]
     },
     "execution_count": 7,
     "metadata": {},
     "output_type": "execute_result"
    }
   ],
   "source": [
    "Q_eq=demand(P_equ)\n",
    "Q_eq"
   ]
  },
  {
   "cell_type": "markdown",
   "id": "6d28af2f-4b03-432c-a008-b6b79fe3502d",
   "metadata": {},
   "source": [
    "### Grafisk løsning av likevekt\n",
    "Her må vi skrive tilbud og etterspørsel på invers form P = A - BQ"
   ]
  },
  {
   "cell_type": "code",
   "execution_count": 8,
   "id": "04168e3d-cbe7-4a78-ae0e-e1cb10bd5ae3",
   "metadata": {},
   "outputs": [],
   "source": [
    "def demand(Q):\n",
    "    return 120-(9*Q)/50"
   ]
  },
  {
   "cell_type": "code",
   "execution_count": 9,
   "id": "bb2b36bd-c9ae-43af-9f85-4f584827644e",
   "metadata": {},
   "outputs": [],
   "source": [
    "def supply(Q):\n",
    "    return Q/25+10"
   ]
  },
  {
   "cell_type": "code",
   "execution_count": 10,
   "id": "97af6c72-74df-4c25-bd4e-94ec72d48b2d",
   "metadata": {},
   "outputs": [
    {
     "data": {
      "text/plain": [
       "(-2.0, 130.0)"
      ]
     },
     "execution_count": 10,
     "metadata": {},
     "output_type": "execute_result"
    },
    {
     "data": {
      "image/png": "[encoded data removed]",
      "text/plain": [
       "<Figure size 640x480 with 1 Axes>"
      ]
     },
     "metadata": {},
     "output_type": "display_data"
    }
   ],
   "source": [
    "#drawing 800 points in the interval 0.0 to 800\n",
    "Q = np.linspace(1,800,800)\n",
    "\n",
    "#drawing supply\n",
    "plt.plot(Q,supply(Q),label='Tilbud')\n",
    "\n",
    "#drawing demand\n",
    "plt.plot(Q,demand(Q),color='green',label='Etterspørsel')\n",
    "\n",
    "#adding legend:\n",
    "plt.legend(loc='lower right')\n",
    "\n",
    "#setting the axis lables\n",
    "plt.ylabel('Pris')\n",
    "plt.xlabel('Enheter')\n",
    "\n",
    "#setting the range of y values (the price) to be between 0 and 300, so that we can more\n",
    "#easily see the equilibrium price\n",
    "plt.ylim((-2,130))"
   ]
  },
  {
   "cell_type": "markdown",
   "id": "9b3aa2f0-2ea5-4ec4-b097-f3aa558be2ab",
   "metadata": {},
   "source": [
    "### Optimal kvantum for hver bedrift er:"
   ]
  },
  {
   "cell_type": "code",
   "execution_count": 45,
   "id": "50735d20-bcbe-4b1c-ba41-e935bb42c8cb",
   "metadata": {},
   "outputs": [],
   "source": [
    "def marginalcost(q):\n",
    "    return (2*q+10)"
   ]
  },
  {
   "cell_type": "code",
   "execution_count": 48,
   "id": "41933544-4325-4193-a7a4-38ded4e8fb44",
   "metadata": {},
   "outputs": [
    {
     "data": {
      "text/latex": [
       "$\\displaystyle 2 q + 10 = 30$"
      ],
      "text/plain": [
       "Eq(2*q + 10, 30)"
      ]
     },
     "execution_count": 48,
     "metadata": {},
     "output_type": "execute_result"
    }
   ],
   "source": [
    "q=sp.symbols('q', real=True, positive=True)\n",
    "#ligningen settes inn i Eq(MC=P)\n",
    "equ=sp.Eq(marginalcost(q),P_equ)\n",
    "equ"
   ]
  },
  {
   "cell_type": "code",
   "execution_count": 28,
   "id": "1e75e0e8-fe98-4ca2-bf94-0c7265b01534",
   "metadata": {},
   "outputs": [
    {
     "data": {
      "text/latex": [
       "$\\displaystyle 10$"
      ],
      "text/plain": [
       "10"
      ]
     },
     "execution_count": 28,
     "metadata": {},
     "output_type": "execute_result"
    }
   ],
   "source": [
    "q_equ=sp.solve(equ,q)[0]\n",
    "q_equ"
   ]
  }
 ],
 "metadata": {
  "kernelspec": {
   "display_name": "Python 3 (ipykernel)",
   "language": "python",
   "name": "python3"
  },
  "language_info": {
   "codemirror_mode": {
    "name": "ipython",
    "version": 3
   },
   "file_extension": ".py",
   "mimetype": "text/x-python",
   "name": "python",
   "nbconvert_exporter": "python",
   "pygments_lexer": "ipython3",
   "version": "3.9.16"
  }
 },
 "nbformat": 4,
 "nbformat_minor": 5
}
